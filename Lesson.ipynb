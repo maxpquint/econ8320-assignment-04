{
  "nbformat": 4,
  "nbformat_minor": 0,
  "metadata": {
    "colab": {
      "provenance": [],
      "authorship_tag": "ABX9TyP/YeiIiFPwQHfB9icrgDwO",
      "include_colab_link": true
    },
    "kernelspec": {
      "name": "python3",
      "display_name": "Python 3"
    },
    "language_info": {
      "name": "python"
    }
  },
  "cells": [
    {
      "cell_type": "markdown",
      "metadata": {
        "id": "view-in-github",
        "colab_type": "text"
      },
      "source": [
        "<a href=\"https://colab.research.google.com/github/maxpquint/econ8320-assignment-04/blob/main/Lesson.ipynb\" target=\"_parent\"><img src=\"https://colab.research.google.com/assets/colab-badge.svg\" alt=\"Open In Colab\"/></a>"
      ]
    },
    {
      "cell_type": "code",
      "execution_count": 12,
      "metadata": {
        "id": "mQuvlN1frJYn"
      },
      "outputs": [],
      "source": [
        "class Matrix(object):\n",
        "    \"\"\"\n",
        "    Read the matrix and store as part of the class object\n",
        "    \"\"\"\n",
        "    def __init__(self, value = [], dim=(1,1)):\n",
        "        if isinstance(value, list):\n",
        "            if len(value) > 0:\n",
        "                row_type = type(value[0])\n",
        "                for i in value:\n",
        "                    if isinstance(i, list):\n",
        "                        for j in i:\n",
        "                            if not isinstance(j, (int, float)):\n",
        "                                raise RuntimeError(\"Matrix is invalid. Please ensure that all elements are numeric (either int or float).\")\n",
        "                    else:\n",
        "                        if not isinstance(i, (int, float)):\n",
        "                            raise RuntimeError(\"Matrix is invalid. Please ensure that all elements are numeric (either int or float).\")\n",
        "\n",
        "                if isinstance(value[0], list):\n",
        "                    len_inner = len(value[0])\n",
        "                    for i in value:\n",
        "                        if len(i) != len_inner:\n",
        "                            raise RuntimeError(\"Matrix is invalid. Please ensure that all rows have uniform length.\")\n",
        "\n",
        "                self.value = value\n",
        "                self.shape = (len(value), len(value[0]))\n",
        "            else:\n",
        "                self.value = [[1 for _ in range(dim[1])] for _ in range(dim[0])]\n",
        "                self.shape = dim\n",
        "        else:\n",
        "            raise ValueError(\"Matrix 'value' must be a list of lists.\")\n",
        "\n",
        "    def __repr__(self):\n",
        "        string = \"\"\n",
        "        for i in range(self.shape[0]):\n",
        "            row = \"[\"\n",
        "            for j in range(self.shape[1]):\n",
        "                row += str(self.value[i][j])\n",
        "                if j < self.shape[1] - 1:\n",
        "                    row += \" \"\n",
        "            row += \"]\"\n",
        "            string += row\n",
        "\n",
        "            if i < self.shape[0] - 1:\n",
        "                string += \"\\n\"\n",
        "\n",
        "        return string"
      ]
    }
  ]
}